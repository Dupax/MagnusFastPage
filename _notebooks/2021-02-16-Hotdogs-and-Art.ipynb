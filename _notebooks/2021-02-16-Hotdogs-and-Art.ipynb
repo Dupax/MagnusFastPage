{
 "cells": [
  {
   "cell_type": "markdown",
   "metadata": {},
   "source": [
    "# Hotdogs and Art\n",
    "This week we worked with the production and optimization of datasets. This took the form of two assignments and the resulting AI.\n",
    "## Hotdog and not-dogs\n",
    "The first assignments of the day consisted of teaching an AI to identify hotdogs in images. For this purpose we needed a dataset for the AI to train on. Assuming to such dataset existed we set out to make our own using Microsoft Azures Bing search api. The following is a snippet of code demonstrating how this was achieved."
   ]
  },
  {
   "cell_type": "code",
   "execution_count": null,
   "metadata": {},
   "outputs": [],
   "source": [
    "food_types = 'hotdog', 'sandwich', 'pizza', 'burger'\n",
    "path = Path('food')"
   ]
  },
  {
   "cell_type": "code",
   "execution_count": null,
   "metadata": {},
   "outputs": [],
   "source": [
    "path.mkdir(exist_ok=True)\n",
    "for o in food_types:\n",
    "    dest = (path/o)\n",
    "    dest.mkdir(exist_ok=True)\n",
    "    results = search_images_bing(key, f'{o}')\n",
    "    download_images(dest, urls=results.attrgot('contentUrl'))"
   ]
  },
  {
   "cell_type": "markdown",
   "metadata": {},
   "source": [
    "This code searches Bing for \"Hotdogs\" and \"Sandwich\", \"Pizza\" and \"burger\" and places the images in their respective folders.\n",
    "The reasoning for searching to food instead of anything else was that other food would be the hardest for the AI to distinguish a hotdog from and thus anything else would be a cakewalk.\n",
    "\n",
    "Initially we simply searched for \"food -hotdog\" but later Sandwich, Pizza and burger was added as we noticed the AI had a hard time distinguish these from hotdogs, so we wanted to give it more training on these in peticular."
   ]
  },
  {
   "cell_type": "code",
   "execution_count": 32,
   "metadata": {
    "scrolled": false
   },
   "outputs": [
    {
     "data": {
      "text/html": [
       "<table border=\"1\" class=\"dataframe\">\n",
       "  <thead>\n",
       "    <tr style=\"text-align: left;\">\n",
       "      <th>epoch</th>\n",
       "      <th>train_loss</th>\n",
       "      <th>valid_loss</th>\n",
       "      <th>error_rate</th>\n",
       "      <th>time</th>\n",
       "    </tr>\n",
       "  </thead>\n",
       "  <tbody>\n",
       "    <tr>\n",
       "      <td>0</td>\n",
       "      <td>2.336467</td>\n",
       "      <td>1.021466</td>\n",
       "      <td>0.342593</td>\n",
       "      <td>00:27</td>\n",
       "    </tr>\n",
       "  </tbody>\n",
       "</table>"
      ],
      "text/plain": [
       "<IPython.core.display.HTML object>"
      ]
     },
     "metadata": {},
     "output_type": "display_data"
    },
    {
     "data": {
      "text/html": [
       "<table border=\"1\" class=\"dataframe\">\n",
       "  <thead>\n",
       "    <tr style=\"text-align: left;\">\n",
       "      <th>epoch</th>\n",
       "      <th>train_loss</th>\n",
       "      <th>valid_loss</th>\n",
       "      <th>error_rate</th>\n",
       "      <th>time</th>\n",
       "    </tr>\n",
       "  </thead>\n",
       "  <tbody>\n",
       "    <tr>\n",
       "      <td>0</td>\n",
       "      <td>0.766608</td>\n",
       "      <td>0.379545</td>\n",
       "      <td>0.157407</td>\n",
       "      <td>00:27</td>\n",
       "    </tr>\n",
       "    <tr>\n",
       "      <td>1</td>\n",
       "      <td>0.551006</td>\n",
       "      <td>0.198412</td>\n",
       "      <td>0.074074</td>\n",
       "      <td>00:27</td>\n",
       "    </tr>\n",
       "    <tr>\n",
       "      <td>2</td>\n",
       "      <td>0.423204</td>\n",
       "      <td>0.138817</td>\n",
       "      <td>0.046296</td>\n",
       "      <td>00:27</td>\n",
       "    </tr>\n",
       "    <tr>\n",
       "      <td>3</td>\n",
       "      <td>0.365362</td>\n",
       "      <td>0.129856</td>\n",
       "      <td>0.046296</td>\n",
       "      <td>00:27</td>\n",
       "    </tr>\n",
       "  </tbody>\n",
       "</table>"
      ],
      "text/plain": [
       "<IPython.core.display.HTML object>"
      ]
     },
     "metadata": {},
     "output_type": "display_data"
    }
   ],
   "source": [
    "learn = cnn_learner(dls, resnet18, metrics=error_rate)\n",
    "learn.fine_tune(4)"
   ]
  },
  {
   "cell_type": "code",
   "execution_count": 33,
   "metadata": {
    "scrolled": true
   },
   "outputs": [
    {
     "data": {
      "text/html": [],
      "text/plain": [
       "<IPython.core.display.HTML object>"
      ]
     },
     "metadata": {},
     "output_type": "display_data"
    },
    {
     "data": {
      "image/png": "[encoded data removed]",
      "text/plain": [
       "<Figure size 432x288 with 1 Axes>"
      ]
     },
     "metadata": {
      "needs_background": "light"
     },
     "output_type": "display_data"
    }
   ],
   "source": [
    "interp = ClassificationInterpretation.from_learner(learn)\n",
    "interp.plot_confusion_matrix()"
   ]
  },
  {
   "cell_type": "markdown",
   "metadata": {},
   "source": [
    "As seen above a few tuning runs we amanaged to achive relavtively good acuracy. Of course there are still things to ironed out, for instance runnning a picture of the earth by the AI it will be around 90% sure that it is a picture of a pizza."
   ]
  },
  {
   "cell_type": "markdown",
   "metadata": {},
   "source": [
    "## Art\n",
    "it was brought to our attention that the Danish National Museum of art was in the possession the origin of except the title and year. They were asking for the public’s help in identifying the artist behind the piece. Thinking this was a perfect test for our AI skills.\n",
    "As such, we found all the artists we could who lived during the period the painting was painted and downloaded images of their work.\n",
    "Here we sadly ran into some issues, first it was hard to find good images of the paintings with sufficient detail, also the quantity of paintings from the individual artists was rather low, making for a bad dataset. The data we got needed heavy editing as a majority was their low quality or entirely irrelevant to the subject. \n",
    "It was also relevant to rethink how we where going to achieve a shared image size as stretching the images would reduce quality to the point where identifying a given artists particular style would be impossible. "
   ]
  }
 ],
 "metadata": {
  "kernelspec": {
   "display_name": "Python 3",
   "language": "python",
   "name": "python3"
  },
  "language_info": {
   "codemirror_mode": {
    "name": "ipython",
    "version": 3
   },
   "file_extension": ".py",
   "mimetype": "text/x-python",
   "name": "python",
   "nbconvert_exporter": "python",
   "pygments_lexer": "ipython3",
   "version": "3.8.5"
  }
 },
 "nbformat": 4,
 "nbformat_minor": 4
}
